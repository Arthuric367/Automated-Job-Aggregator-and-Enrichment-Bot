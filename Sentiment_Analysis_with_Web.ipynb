{
  "nbformat": 4,
  "nbformat_minor": 0,
  "metadata": {
    "colab": {
      "provenance": [],
      "authorship_tag": "ABX9TyNwCkmr0jQqB+K8loIhVj7N",
      "include_colab_link": true
    },
    "kernelspec": {
      "name": "python3",
      "display_name": "Python 3"
    },
    "language_info": {
      "name": "python"
    }
  },
  "cells": [
    {
      "cell_type": "markdown",
      "metadata": {
        "id": "view-in-github",
        "colab_type": "text"
      },
      "source": [
        "<a href=\"https://colab.research.google.com/github/Arthuric367/Automated-Job-Aggregator-and-Enrichment-Bot/blob/main/Sentiment_Analysis_with_Web.ipynb\" target=\"_parent\"><img src=\"https://colab.research.google.com/assets/colab-badge.svg\" alt=\"Open In Colab\"/></a>"
      ]
    },
    {
      "cell_type": "code",
      "execution_count": 8,
      "metadata": {
        "colab": {
          "base_uri": "https://localhost:8080/",
          "height": 593
        },
        "id": "D0ta45GJ8VUN",
        "outputId": "5c98f3c2-ad66-43e3-970d-bb85d46f89ad"
      },
      "outputs": [
        {
          "output_type": "stream",
          "name": "stdout",
          "text": [
            "ngrok\n"
          ]
        },
        {
          "output_type": "stream",
          "name": "stderr",
          "text": [
            "[nltk_data] Downloading package stopwords to /root/nltk_data...\n",
            "[nltk_data]   Package stopwords is already up-to-date!\n"
          ]
        },
        {
          "output_type": "stream",
          "name": "stdout",
          "text": [
            "Accuracy: 0.89\n"
          ]
        },
        {
          "output_type": "display_data",
          "data": {
            "text/plain": [
              "<Figure size 640x480 with 2 Axes>"
            ],
            "image/png": "[encoded data removed]"
          },
          "metadata": {}
        },
        {
          "output_type": "stream",
          "name": "stdout",
          "text": [
            "Prediction for sample text: positive\n",
            "Authtoken saved to configuration file: /root/.config/ngrok/ngrok.yml\n",
            "Streamlit app is live at: NgrokTunnel: \"https://841d3a1f1d9c.ngrok-free.app\" -> \"http://localhost:8501\"\n"
          ]
        }
      ],
      "source": [
        "# Cell 1: Install required libraries\n",
        "!pip install streamlit pyngrok -q\n",
        "!pip install pandas numpy scikit-learn nltk -q  # Ensure libraries are installed\n",
        "!wget -q https://bin.equinox.io/c/bNyj1mQVY4c/ngrok-v3-stable-linux-amd64.tgz\n",
        "!tar -xvzf ngrok-v3-stable-linux-amd64.tgz -C /usr/local/bin\n",
        "!chmod +x /usr/local/bin/ngrok\n",
        "\n",
        "# Cell 2: Train model, save it, and show confusion matrix\n",
        "import pandas as pd\n",
        "import nltk\n",
        "from sklearn.feature_extraction.text import TfidfVectorizer\n",
        "from sklearn.model_selection import train_test_split\n",
        "from sklearn.linear_model import LogisticRegression\n",
        "from sklearn.metrics import accuracy_score, confusion_matrix\n",
        "from nltk.corpus import stopwords\n",
        "import seaborn as sns\n",
        "import matplotlib.pyplot as plt\n",
        "import pickle\n",
        "\n",
        "# Download NLTK stopwords\n",
        "nltk.download('stopwords')\n",
        "\n",
        "# Load data\n",
        "data = pd.read_csv('/content/sample_data/IMDB Dataset.csv')\n",
        "reviews = data['review']\n",
        "labels = data['sentiment']  # 'negative' or 'positive'\n",
        "\n",
        "# Preprocess text\n",
        "stop_words = set(stopwords.words('english'))\n",
        "def preprocess(text):\n",
        "    return ' '.join(word.lower() for word in text.split() if word.lower() not in stop_words)\n",
        "\n",
        "reviews = reviews.apply(preprocess)\n",
        "\n",
        "# Convert text to numerical features\n",
        "vectorizer = TfidfVectorizer(max_features=5000)\n",
        "X = vectorizer.fit_transform(reviews)\n",
        "y = labels\n",
        "\n",
        "# Split data\n",
        "X_train, X_test, y_train, y_test = train_test_split(X, y, test_size=0.2, random_state=42)\n",
        "\n",
        "# Train model\n",
        "model = LogisticRegression()\n",
        "model.fit(X_train, y_train)\n",
        "\n",
        "# Evaluate\n",
        "predictions = model.predict(X_test)\n",
        "print(f\"Accuracy: {accuracy_score(y_test, predictions):.2f}\")\n",
        "\n",
        "# Show confusion matrix\n",
        "cm = confusion_matrix(y_test, predictions)\n",
        "sns.heatmap(cm, annot=True, fmt='d', cmap='Blues')\n",
        "plt.xlabel('Predicted')\n",
        "plt.ylabel('Actual')\n",
        "plt.title('Confusion Matrix')\n",
        "plt.show()\n",
        "\n",
        "# Predict on new text\n",
        "new_text = [\"This movie was amazing!\"]\n",
        "new_text_transformed = vectorizer.transform(new_text)\n",
        "print(f\"Prediction for sample text: {model.predict(new_text_transformed)[0]}\")\n",
        "\n",
        "# Save model and vectorizer\n",
        "with open('model.pkl', 'wb') as f:\n",
        "    pickle.dump(model, f)\n",
        "with open('vectorizer.pkl', 'wb') as f:\n",
        "    pickle.dump(vectorizer, f)\n",
        "\n",
        "# Cell 3: Write Streamlit app\n",
        "app_code = \"\"\"\n",
        "import streamlit as st\n",
        "import pickle\n",
        "import nltk\n",
        "from nltk.corpus import stopwords\n",
        "import string\n",
        "\n",
        "# Download NLTK stopwords\n",
        "nltk.download('stopwords')\n",
        "stop_words = set(stopwords.words('english'))\n",
        "\n",
        "# Load model and vectorizer\n",
        "with open('model.pkl', 'rb') as f:\n",
        "    model = pickle.load(f)\n",
        "with open('vectorizer.pkl', 'rb') as f:\n",
        "    vectorizer = pickle.load(f)\n",
        "\n",
        "# Preprocess function\n",
        "def preprocess(text):\n",
        "    text = text.lower()\n",
        "    text = ''.join([char for char in text if char not in string.punctuation])\n",
        "    text = ' '.join(word for word in text.split() if word not in stop_words)\n",
        "    return text\n",
        "\n",
        "# Streamlit app\n",
        "st.title(\"Movie Review Sentiment Analysis\")\n",
        "st.write(\"Enter a movie review to predict its sentiment (positive or negative).\")\n",
        "\n",
        "# Input text\n",
        "user_input = st.text_area(\"Enter your review:\", \"Type your movie review here...\")\n",
        "\n",
        "if st.button(\"Predict Sentiment\"):\n",
        "    if user_input:\n",
        "        # Preprocess and predict\n",
        "        processed_input = preprocess(user_input)\n",
        "        input_vector = vectorizer.transform([processed_input])\n",
        "        prediction = model.predict(input_vector)[0]\n",
        "        sentiment = 'positive' if prediction == 'positive' else 'negative'\n",
        "        st.write(f\"Predicted Sentiment: **{sentiment}**\")\n",
        "    else:\n",
        "        st.write(\"Please enter a review.\")\n",
        "\"\"\"\n",
        "with open('app.py', 'w') as f:\n",
        "    f.write(app_code)\n",
        "\n",
        "# Cell 4: Run Streamlit with ngrok\n",
        "from pyngrok import ngrok\n",
        "import subprocess\n",
        "\n",
        "# Set ngrok authtoken\n",
        "!ngrok authtoken 2zwhy33I9ElIYpfLPxzwzMwcCZ2_6kPB1GvYwvxpWakwFZbt8\n",
        "\n",
        "# Terminate any existing ngrok tunnels\n",
        "ngrok.kill()\n",
        "\n",
        "# Start Streamlit server\n",
        "subprocess.Popen([\"streamlit\", \"run\", \"app.py\", \"--server.port\", \"8501\"])\n",
        "\n",
        "# Create ngrok tunnel\n",
        "public_url = ngrok.connect(8501)\n",
        "print(f\"Streamlit app is live at: {public_url}\")"
      ]
    },
    {
      "cell_type": "markdown",
      "source": [],
      "metadata": {
        "id": "_Nhvk8nyAXGW"
      }
    }
  ]
}